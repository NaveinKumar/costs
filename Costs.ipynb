{
  "nbformat": 4,
  "nbformat_minor": 0,
  "metadata": {
    "colab": {
      "name": "Costs.ipynb",
      "provenance": [],
      "collapsed_sections": [],
      "authorship_tag": "ABX9TyNZAf+X1fJR8/iMhIC1veRl",
      "include_colab_link": true
    },
    "kernelspec": {
      "name": "python3",
      "display_name": "Python 3"
    }
  },
  "cells": [
    {
      "cell_type": "markdown",
      "metadata": {
        "id": "view-in-github",
        "colab_type": "text"
      },
      "source": [
        "<a href=\"https://colab.research.google.com/github/NaveinKumar/costs/blob/main/Costs.ipynb\" target=\"_parent\"><img src=\"https://colab.research.google.com/assets/colab-badge.svg\" alt=\"Open In Colab\"/></a>"
      ]
    },
    {
      "cell_type": "markdown",
      "metadata": {
        "id": "oxwvQk6x6nGg"
      },
      "source": [
        "P = 1000 + 20% Q\n",
        "Q = 2000 + 10% P\n",
        "\n",
        "10P -2Q = 10000\n",
        "-P +10Q = 20000"
      ]
    },
    {
      "cell_type": "code",
      "metadata": {
        "id": "sSJysDjs6j8w"
      },
      "source": [
        "import numpy as np\n"
      ],
      "execution_count": null,
      "outputs": []
    },
    {
      "cell_type": "code",
      "metadata": {
        "id": "EWtGA_kWkdRV"
      },
      "source": [
        "x = np.array([[10,-2],[-1,10]]) \n",
        "# print(x)\n",
        "y = np.array([10000,20000])"
      ],
      "execution_count": 6,
      "outputs": []
    },
    {
      "cell_type": "code",
      "metadata": {
        "id": "d5ZgXH7boNxL"
      },
      "source": [
        "z = np.linalg.inv(x)\n",
        "# print(z)"
      ],
      "execution_count": 7,
      "outputs": []
    },
    {
      "cell_type": "code",
      "metadata": {
        "id": "2ERdSzQ-pHSR"
      },
      "source": [
        "r = np.matmul(z,y)\n",
        "# print(r)"
      ],
      "execution_count": 8,
      "outputs": []
    }
  ]
}